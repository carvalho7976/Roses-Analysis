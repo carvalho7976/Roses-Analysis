{
 "cells": [
  {
   "cell_type": "markdown",
   "metadata": {},
   "source": [
    "# A minimal example of how to use Kruskal Test and analysis the Posh-hoc test result"
   ]
  },
  {
   "cell_type": "code",
   "execution_count": 1,
   "metadata": {},
   "outputs": [],
   "source": [
    "%matplotlib inline\n",
    "\n",
    "# Required imports\n",
    "import numpy as np\n",
    "import pandas as pd\n",
    "import matplotlib.pyplot as plt\n",
    "from roses.statistical_test.kruskal_wallis import kruskal_wallis\n",
    "from roses.effect_size import vargha_delaney\n",
    "\n",
    "# rpy2\n",
    "import rpy2.robjects as ro\n",
    "from rpy2.robjects import pandas2ri\n",
    "from rpy2.robjects.conversion import localconverter\n",
    "\n",
    "# For a beautiful plot\n",
    "plt.style.use('ggplot')\n",
    "\n",
    "# If you want let the plot beautiful\n",
    "import seaborn as sns\n",
    "sns.set_style(\"whitegrid\")\n",
    "sns.set(palette=\"pastel\")\n",
    "\n",
    "# Improving the readability in the plots\n",
    "FONT_SIZE_PLOTS = 16\n",
    "plt.rcParams.update({\n",
    "    'font.size': FONT_SIZE_PLOTS,\n",
    "    'xtick.labelsize': FONT_SIZE_PLOTS,\n",
    "    'ytick.labelsize': FONT_SIZE_PLOTS,\n",
    "    'legend.fontsize': FONT_SIZE_PLOTS,\n",
    "    'axes.titlesize' : FONT_SIZE_PLOTS,\n",
    "    'axes.labelsize' : FONT_SIZE_PLOTS\n",
    "})"
   ]
  },
  {
   "cell_type": "markdown",
   "metadata": {},
   "source": [
    "## Function to help the analysis"
   ]
  },
  {
   "cell_type": "code",
   "execution_count": 2,
   "metadata": {},
   "outputs": [],
   "source": [
    "def print_mean(df):\n",
    "    \"\"\"\n",
    "    This function group the data and presents for each algorithm the mean, std, max, and min values.\n",
    "    Besides that, it returns the best algorithm based on the maximum mean value.\n",
    "    \"\"\"\n",
    "    mean = df.groupby(['algorithm'], as_index=False).agg({'fitness': ['mean', 'std', 'max', 'min']})\n",
    "    mean.columns = ['name', 'mean', 'std', 'max', 'min']\n",
    "    \n",
    "    # Round values (to be used in the article)\n",
    "    mean = mean.round({'mean': 4, 'std': 3, 'max': 4, 'min': 4})\n",
    "    mean = mean.infer_objects()\n",
    "\n",
    "    bestalg = mean.loc[mean['mean'].idxmax()]\n",
    "\n",
    "    return mean, bestalg['name']"
   ]
  },
  {
   "cell_type": "markdown",
   "metadata": {},
   "source": [
    "## Read the Data"
   ]
  },
  {
   "cell_type": "code",
   "execution_count": 3,
   "metadata": {},
   "outputs": [
    {
     "data": {
      "text/html": [
       "<div>\n",
       "<style scoped>\n",
       "    .dataframe tbody tr th:only-of-type {\n",
       "        vertical-align: middle;\n",
       "    }\n",
       "\n",
       "    .dataframe tbody tr th {\n",
       "        vertical-align: top;\n",
       "    }\n",
       "\n",
       "    .dataframe thead th {\n",
       "        text-align: right;\n",
       "    }\n",
       "</style>\n",
       "<table border=\"1\" class=\"dataframe\">\n",
       "  <thead>\n",
       "    <tr style=\"text-align: right;\">\n",
       "      <th></th>\n",
       "      <th>algorithm</th>\n",
       "      <th>fitness</th>\n",
       "    </tr>\n",
       "  </thead>\n",
       "  <tbody>\n",
       "    <tr>\n",
       "      <th>0</th>\n",
       "      <td>AlgorithmA</td>\n",
       "      <td>0.778856</td>\n",
       "    </tr>\n",
       "    <tr>\n",
       "      <th>1</th>\n",
       "      <td>AlgorithmD</td>\n",
       "      <td>0.730263</td>\n",
       "    </tr>\n",
       "    <tr>\n",
       "      <th>2</th>\n",
       "      <td>AlgorithmE</td>\n",
       "      <td>0.664486</td>\n",
       "    </tr>\n",
       "    <tr>\n",
       "      <th>3</th>\n",
       "      <td>AlgorithmB</td>\n",
       "      <td>0.742775</td>\n",
       "    </tr>\n",
       "    <tr>\n",
       "      <th>4</th>\n",
       "      <td>AlgorithmC</td>\n",
       "      <td>0.730346</td>\n",
       "    </tr>\n",
       "    <tr>\n",
       "      <th>...</th>\n",
       "      <td>...</td>\n",
       "      <td>...</td>\n",
       "    </tr>\n",
       "    <tr>\n",
       "      <th>145</th>\n",
       "      <td>AlgorithmA</td>\n",
       "      <td>0.780547</td>\n",
       "    </tr>\n",
       "    <tr>\n",
       "      <th>146</th>\n",
       "      <td>AlgorithmD</td>\n",
       "      <td>0.732662</td>\n",
       "    </tr>\n",
       "    <tr>\n",
       "      <th>147</th>\n",
       "      <td>AlgorithmE</td>\n",
       "      <td>0.671618</td>\n",
       "    </tr>\n",
       "    <tr>\n",
       "      <th>148</th>\n",
       "      <td>AlgorithmB</td>\n",
       "      <td>0.742228</td>\n",
       "    </tr>\n",
       "    <tr>\n",
       "      <th>149</th>\n",
       "      <td>AlgorithmC</td>\n",
       "      <td>0.728765</td>\n",
       "    </tr>\n",
       "  </tbody>\n",
       "</table>\n",
       "<p>150 rows × 2 columns</p>\n",
       "</div>"
      ],
      "text/plain": [
       "      algorithm   fitness\n",
       "0    AlgorithmA  0.778856\n",
       "1    AlgorithmD  0.730263\n",
       "2    AlgorithmE  0.664486\n",
       "3    AlgorithmB  0.742775\n",
       "4    AlgorithmC  0.730346\n",
       "..          ...       ...\n",
       "145  AlgorithmA  0.780547\n",
       "146  AlgorithmD  0.732662\n",
       "147  AlgorithmE  0.671618\n",
       "148  AlgorithmB  0.742228\n",
       "149  AlgorithmC  0.728765\n",
       "\n",
       "[150 rows x 2 columns]"
      ]
     },
     "execution_count": 3,
     "metadata": {},
     "output_type": "execute_result"
    }
   ],
   "source": [
    "df = pd.read_csv('../resources/kruskal.csv', sep=\";\")\n",
    "df"
   ]
  },
  {
   "cell_type": "markdown",
   "metadata": {},
   "source": [
    "## Apply the Kruskal-Wallis Test in the data"
   ]
  },
  {
   "cell_type": "code",
   "execution_count": 4,
   "metadata": {},
   "outputs": [
    {
     "name": "stderr",
     "output_type": "stream",
     "text": [
      "R[write to console]: Loading required package: PMCMRplus\n",
      "\n",
      "R[write to console]: Loading required package: devtools\n",
      "\n",
      "R[write to console]: Loading required package: usethis\n",
      "\n",
      "R[write to console]: Loading required package: scmamp\n",
      "\n",
      "R[write to console]: \n",
      "Attaching package: ‘scmamp’\n",
      "\n",
      "\n",
      "R[write to console]: The following objects are masked from ‘package:PMCMRplus’:\n",
      "\n",
      "    friedmanTest, tukeyTest\n",
      "\n",
      "\n"
     ]
    },
    {
     "data": {
      "text/html": [
       "<div>\n",
       "<style scoped>\n",
       "    .dataframe tbody tr th:only-of-type {\n",
       "        vertical-align: middle;\n",
       "    }\n",
       "\n",
       "    .dataframe tbody tr th {\n",
       "        vertical-align: top;\n",
       "    }\n",
       "\n",
       "    .dataframe thead th {\n",
       "        text-align: right;\n",
       "    }\n",
       "</style>\n",
       "<table border=\"1\" class=\"dataframe\">\n",
       "  <thead>\n",
       "    <tr style=\"text-align: right;\">\n",
       "      <th></th>\n",
       "      <th>Source</th>\n",
       "      <th>ddof1</th>\n",
       "      <th>H</th>\n",
       "      <th>p-unc</th>\n",
       "    </tr>\n",
       "  </thead>\n",
       "  <tbody>\n",
       "    <tr>\n",
       "      <th>Kruskal</th>\n",
       "      <td>algorithm</td>\n",
       "      <td>4</td>\n",
       "      <td>135.950552</td>\n",
       "      <td>2.076855e-28</td>\n",
       "    </tr>\n",
       "  </tbody>\n",
       "</table>\n",
       "</div>"
      ],
      "text/plain": [
       "            Source  ddof1           H         p-unc\n",
       "Kruskal  algorithm      4  135.950552  2.076855e-28"
      ]
     },
     "execution_count": 4,
     "metadata": {},
     "output_type": "execute_result"
    },
    {
     "data": {
      "image/png": "[encoded data removed]",
      "text/plain": [
       "<Figure size 720x432 with 1 Axes>"
      ]
     },
     "metadata": {},
     "output_type": "display_data"
    }
   ],
   "source": [
    "fig, ax = plt.subplots(figsize=(10,6))\n",
    "\n",
    "k = kruskal_wallis(df, 'fitness', 'algorithm')\n",
    "kruskal_result, posthoc = k.apply(ax)\n",
    "plt.tight_layout()\n",
    "\n",
    "kruskal_result\n",
    "\n",
    "#plt.savefig(\"kruskal.pdf\", bbox_inches='tight')\n",
    "#plt.cla()\n",
    "#plt.close(fig)"
   ]
  },
  {
   "cell_type": "markdown",
   "metadata": {},
   "source": [
    "## Identifying the best algorithm"
   ]
  },
  {
   "cell_type": "code",
   "execution_count": 5,
   "metadata": {},
   "outputs": [
    {
     "name": "stdout",
     "output_type": "stream",
     "text": [
      "Best algorithm: AlgorithmA \n",
      "\n",
      "Means:\n"
     ]
    },
    {
     "data": {
      "text/html": [
       "<div>\n",
       "<style scoped>\n",
       "    .dataframe tbody tr th:only-of-type {\n",
       "        vertical-align: middle;\n",
       "    }\n",
       "\n",
       "    .dataframe tbody tr th {\n",
       "        vertical-align: top;\n",
       "    }\n",
       "\n",
       "    .dataframe thead th {\n",
       "        text-align: right;\n",
       "    }\n",
       "</style>\n",
       "<table border=\"1\" class=\"dataframe\">\n",
       "  <thead>\n",
       "    <tr style=\"text-align: right;\">\n",
       "      <th></th>\n",
       "      <th>name</th>\n",
       "      <th>mean</th>\n",
       "      <th>std</th>\n",
       "      <th>max</th>\n",
       "      <th>min</th>\n",
       "    </tr>\n",
       "  </thead>\n",
       "  <tbody>\n",
       "    <tr>\n",
       "      <th>0</th>\n",
       "      <td>AlgorithmA</td>\n",
       "      <td>0.7782</td>\n",
       "      <td>0.002</td>\n",
       "      <td>0.7810</td>\n",
       "      <td>0.7717</td>\n",
       "    </tr>\n",
       "    <tr>\n",
       "      <th>1</th>\n",
       "      <td>AlgorithmB</td>\n",
       "      <td>0.7455</td>\n",
       "      <td>0.002</td>\n",
       "      <td>0.7507</td>\n",
       "      <td>0.7419</td>\n",
       "    </tr>\n",
       "    <tr>\n",
       "      <th>2</th>\n",
       "      <td>AlgorithmC</td>\n",
       "      <td>0.7307</td>\n",
       "      <td>0.003</td>\n",
       "      <td>0.7374</td>\n",
       "      <td>0.7235</td>\n",
       "    </tr>\n",
       "    <tr>\n",
       "      <th>3</th>\n",
       "      <td>AlgorithmD</td>\n",
       "      <td>0.7313</td>\n",
       "      <td>0.002</td>\n",
       "      <td>0.7363</td>\n",
       "      <td>0.7263</td>\n",
       "    </tr>\n",
       "    <tr>\n",
       "      <th>4</th>\n",
       "      <td>AlgorithmE</td>\n",
       "      <td>0.6742</td>\n",
       "      <td>0.008</td>\n",
       "      <td>0.6881</td>\n",
       "      <td>0.6607</td>\n",
       "    </tr>\n",
       "  </tbody>\n",
       "</table>\n",
       "</div>"
      ],
      "text/plain": [
       "         name    mean    std     max     min\n",
       "0  AlgorithmA  0.7782  0.002  0.7810  0.7717\n",
       "1  AlgorithmB  0.7455  0.002  0.7507  0.7419\n",
       "2  AlgorithmC  0.7307  0.003  0.7374  0.7235\n",
       "3  AlgorithmD  0.7313  0.002  0.7363  0.7263\n",
       "4  AlgorithmE  0.6742  0.008  0.6881  0.6607"
      ]
     },
     "execution_count": 5,
     "metadata": {},
     "output_type": "execute_result"
    }
   ],
   "source": [
    "mean, best = print_mean(df)\n",
    "\n",
    "print(\"Best algorithm:\", best, \"\\n\\nMeans:\")\n",
    "\n",
    "mean"
   ]
  },
  {
   "cell_type": "markdown",
   "metadata": {},
   "source": [
    "## Post-Hoc Tests"
   ]
  },
  {
   "cell_type": "code",
   "execution_count": 6,
   "metadata": {},
   "outputs": [
    {
     "name": "stderr",
     "output_type": "stream",
     "text": [
      "R[write to console]: \n",
      "\tPairwise comparisons using Tukey-Kramer-Nemenyi all-pairs test with Tukey-Dist approximation\n",
      "\n",
      "\n",
      "R[write to console]: data: value and group\n",
      "\n",
      "\n",
      "R[write to console]: \n",
      "P value adjustment method: single-step\n",
      "\n",
      "R[write to console]: alternative hypothesis: two.sided\n",
      "\n"
     ]
    },
    {
     "name": "stdout",
     "output_type": "stream",
     "text": [
      "           AlgorithmA AlgorithmB AlgorithmC AlgorithmD\n",
      "AlgorithmB 0.05780    -          -          -         \n",
      "AlgorithmC 1.0e-10    0.00035    -          -         \n",
      "AlgorithmD 5.1e-10    0.00094    0.99930    -         \n",
      "AlgorithmE 4.7e-14    7.6e-14    0.00094    0.00035   \n",
      "\n"
     ]
    }
   ],
   "source": [
    "# post-hoc p-value results (if posthoc is not None)\n",
    "print(posthoc[0])"
   ]
  },
  {
   "cell_type": "code",
   "execution_count": 7,
   "metadata": {},
   "outputs": [],
   "source": [
    "# Get the posthoc and prepare the comparison against the best algorithm\n",
    "df_eff = vargha_delaney.reduce(posthoc[1], best)\n",
    "\n",
    "# Define symbols for each effect size magnitude\n",
    "mean['eff_symbol'] = \" \"\n",
    "\n",
    "def get_eff_symbol(x, best, df_eff):\n",
    "    if x['name'] == best:\n",
    "        return \"$\\\\bigstar$\"\n",
    "    elif len(df_eff.loc[df_eff.compared_with == x['name'], 'effect_size_symbol'].values) > 0:\n",
    "        return df_eff.loc[df_eff.compared_with == x['name'], 'effect_size_symbol'].values[0]\n",
    "    else:\n",
    "        return df_eff.loc[df_eff.base == x['name'], 'effect_size_symbol'].values[0]\n",
    "\n",
    "mean['eff_symbol'] = mean.apply(lambda x: get_eff_symbol(x, best, df_eff), axis=1)\n",
    "\n",
    "# Concat the values to a unique columns\n",
    "mean['avg_std_effect'] = mean.apply(lambda row: f\"{row['mean']:.4f} $\\\\pm$ {row['std']:.4f} {row['eff_symbol']}\", axis=1)\n",
    "\n",
    "# Select the main information\n",
    "mean = mean[['name', 'avg_std_effect']]"
   ]
  },
  {
   "cell_type": "code",
   "execution_count": 8,
   "metadata": {},
   "outputs": [
    {
     "data": {
      "text/html": [
       "<div>\n",
       "<style scoped>\n",
       "    .dataframe tbody tr th:only-of-type {\n",
       "        vertical-align: middle;\n",
       "    }\n",
       "\n",
       "    .dataframe tbody tr th {\n",
       "        vertical-align: top;\n",
       "    }\n",
       "\n",
       "    .dataframe thead th {\n",
       "        text-align: right;\n",
       "    }\n",
       "</style>\n",
       "<table border=\"1\" class=\"dataframe\">\n",
       "  <thead>\n",
       "    <tr style=\"text-align: right;\">\n",
       "      <th></th>\n",
       "      <th>name</th>\n",
       "      <th>avg_std_effect</th>\n",
       "    </tr>\n",
       "  </thead>\n",
       "  <tbody>\n",
       "    <tr>\n",
       "      <th>0</th>\n",
       "      <td>AlgorithmA</td>\n",
       "      <td>0.7782 $\\pm$ 0.0020 $\\bigstar$</td>\n",
       "    </tr>\n",
       "    <tr>\n",
       "      <th>1</th>\n",
       "      <td>AlgorithmB</td>\n",
       "      <td>0.7455 $\\pm$ 0.0020 $\\blacktriangle$</td>\n",
       "    </tr>\n",
       "    <tr>\n",
       "      <th>2</th>\n",
       "      <td>AlgorithmC</td>\n",
       "      <td>0.7307 $\\pm$ 0.0030 $\\blacktriangle$</td>\n",
       "    </tr>\n",
       "    <tr>\n",
       "      <th>3</th>\n",
       "      <td>AlgorithmD</td>\n",
       "      <td>0.7313 $\\pm$ 0.0020 $\\blacktriangle$</td>\n",
       "    </tr>\n",
       "    <tr>\n",
       "      <th>4</th>\n",
       "      <td>AlgorithmE</td>\n",
       "      <td>0.6742 $\\pm$ 0.0080 $\\blacktriangle$</td>\n",
       "    </tr>\n",
       "  </tbody>\n",
       "</table>\n",
       "</div>"
      ],
      "text/plain": [
       "         name                        avg_std_effect\n",
       "0  AlgorithmA        0.7782 $\\pm$ 0.0020 $\\bigstar$\n",
       "1  AlgorithmB  0.7455 $\\pm$ 0.0020 $\\blacktriangle$\n",
       "2  AlgorithmC  0.7307 $\\pm$ 0.0030 $\\blacktriangle$\n",
       "3  AlgorithmD  0.7313 $\\pm$ 0.0020 $\\blacktriangle$\n",
       "4  AlgorithmE  0.6742 $\\pm$ 0.0080 $\\blacktriangle$"
      ]
     },
     "execution_count": 8,
     "metadata": {},
     "output_type": "execute_result"
    }
   ],
   "source": [
    "mean"
   ]
  },
  {
   "cell_type": "markdown",
   "metadata": {},
   "source": [
    "### Display the AVG +- STD EFFECT_SIZE and symbols for each effect size magnitude"
   ]
  },
  {
   "cell_type": "code",
   "execution_count": 9,
   "metadata": {
    "scrolled": true
   },
   "outputs": [
    {
     "name": "stdout",
     "output_type": "stream",
     "text": [
      "                    AlgorithmA                           AlgorithmB                           AlgorithmC                           AlgorithmD                           AlgorithmE\n",
      "0.7782 $\\pm$ 0.0020 $\\bigstar$ & 0.7455 $\\pm$ 0.0020 $\\blacktriangle$ & 0.7307 $\\pm$ 0.0030 $\\blacktriangle$ & 0.7313 $\\pm$ 0.0020 $\\blacktriangle$ & 0.6742 $\\pm$ 0.0080 $\\blacktriangle$ \n",
      "\n",
      "\n"
     ]
    }
   ],
   "source": [
    "mean_trans = mean.copy()\n",
    "mean_trans.index = mean['name']\n",
    "mean_trans = mean_trans.transpose()\n",
    "\n",
    "temp_x = mean_trans.to_string(index=False, index_names=False).split(\"\\n\")[1:]\n",
    "print(temp_x[0]) # Column names\n",
    "\n",
    "# Just a beautiful print to use with LaTeX table :}\n",
    "temp_split = temp_x[1].split()\n",
    "cont = 1\n",
    "for x in temp_split:\n",
    "    print(f\"{x} \", end=\"\")\n",
    "    if (cont % 4 == 0 and cont != len(temp_split)):\n",
    "        print(\"& \", end=\"\")\n",
    "    cont += 1\n",
    "print(\"\\n\\n\")"
   ]
  },
  {
   "cell_type": "markdown",
   "metadata": {},
   "source": [
    "## Convert the posthoc to a DataFrame in pandas (workaround)"
   ]
  },
  {
   "cell_type": "code",
   "execution_count": 10,
   "metadata": {},
   "outputs": [],
   "source": [
    "ro.r.assign('posthoc', posthoc[0])\n",
    "ro.r('posthoc_table <- t(as.matrix(posthoc$p.value))')\n",
    "ro.r('df_posthoc <- as.data.frame(t(posthoc_table))')\n",
    "\n",
    "with localconverter(ro.default_converter + pandas2ri.converter):\n",
    "    posthoc_df = ro.conversion.rpy2py(ro.r('df_posthoc'))"
   ]
  },
  {
   "cell_type": "markdown",
   "metadata": {},
   "source": [
    "## Now, we gonna to check each posthoc value to color the cells: best in bold and equivalent to the best one in gray"
   ]
  },
  {
   "cell_type": "code",
   "execution_count": 12,
   "metadata": {},
   "outputs": [],
   "source": [
    "def get_config_latex(row, best, posthoc_df):\n",
    "    \"\"\"\n",
    "    Latex commands used:\n",
    "    - Best algorithm: \\newcommand{\\cellgray}[1]{\\cellcolor{gray!30}{#1}}\n",
    "    - Equivalent to the best one: \\newcommand{\\cellbold}[1]{\\cellcolor{gray!30}{\\textbf{#1}}}\n",
    "    \"\"\"\n",
    "    current_name =  row['name']\n",
    "    is_equivalent = False\n",
    "    \n",
    "    if best in posthoc_df.columns and current_name in posthoc_df.index and not np.isnan(posthoc_df.loc[current_name][best]):\n",
    "        # They are equivalent\n",
    "        is_equivalent = posthoc_df.loc[current_name][best] >= 0.05                    \n",
    "    elif current_name in posthoc_df.columns and best in posthoc_df.index and not np.isnan(posthoc_df.loc[best][current_name]):\n",
    "        # They are equivalent\n",
    "        is_equivalent = posthoc_df.loc[current_name][best] >= 0.05             \n",
    "        \n",
    "    if is_equivalent:\n",
    "        return f\"\\\\cellgray{{{row['avg_std_effect']}}}\"\n",
    "    elif row['name'] == best:\n",
    "        return f\"\\\\cellbold{{{row['avg_std_effect']}}}\"\n",
    "    else:\n",
    "        return row['avg_std_effect'] \n",
    "                \n",
    "mean['latex_format'] = mean.apply(lambda row: get_config_latex(row, best, posthoc_df), axis=1)"
   ]
  },
  {
   "cell_type": "markdown",
   "metadata": {},
   "source": [
    "## Display the new latex format"
   ]
  },
  {
   "cell_type": "code",
   "execution_count": 13,
   "metadata": {},
   "outputs": [
    {
     "name": "stdout",
     "output_type": "stream",
     "text": [
      "                               AlgorithmA                                      AlgorithmB                           AlgorithmC                           AlgorithmD                           AlgorithmE\n",
      "\\cellbold{0.7782 $\\pm$ 0.0020 $\\bigstar$} & \\cellgray{0.7455 $\\pm$ 0.0020 $\\blacktriangle$} & 0.7307 $\\pm$ 0.0030 $\\blacktriangle$ & 0.7313 $\\pm$ 0.0020 $\\blacktriangle$ & 0.6742 $\\pm$ 0.0080 $\\blacktriangle$ \n",
      "\n",
      "\n"
     ]
    }
   ],
   "source": [
    "# Select the main information\n",
    "mean = mean[['name', 'latex_format']]\n",
    "\n",
    "mean_trans = mean.copy()\n",
    "mean_trans.index = mean['name']\n",
    "mean_trans = mean_trans.transpose()\n",
    "\n",
    "temp_x = mean_trans.to_string(index=False, index_names=False).split(\"\\n\")[1:]\n",
    "print(temp_x[0]) # Column names\n",
    "\n",
    "# Just a beautiful print to use with LaTeX table :}\n",
    "temp_split = temp_x[1].split()\n",
    "cont = 1\n",
    "for x in temp_split:\n",
    "    print(f\"{x} \", end=\"\")\n",
    "    if (cont % 4 == 0 and cont != len(temp_split)):\n",
    "        print(\"& \", end=\"\")\n",
    "    cont += 1\n",
    "print(\"\\n\\n\")"
   ]
  },
  {
   "cell_type": "code",
   "execution_count": null,
   "metadata": {},
   "outputs": [],
   "source": []
  }
 ],
 "metadata": {
  "kernelspec": {
   "display_name": "Python 3",
   "language": "python",
   "name": "python3"
  },
  "language_info": {
   "codemirror_mode": {
    "name": "ipython",
    "version": 3
   },
   "file_extension": ".py",
   "mimetype": "text/x-python",
   "name": "python",
   "nbconvert_exporter": "python",
   "pygments_lexer": "ipython3",
   "version": "3.8.5"
  }
 },
 "nbformat": 4,
 "nbformat_minor": 2
}
